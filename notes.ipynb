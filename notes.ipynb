{
 "cells": [
  {
   "cell_type": "code",
   "execution_count": null,
   "metadata": {},
   "outputs": [],
   "source": [
    "from PIL import Image \n",
    " \n",
    "# Opens a image in RGB mode \n",
    "im = Image.open(r\"./test1.png\") \n",
    "\n",
    "newsize = (1024, 1024)\n",
    "im1 = im.resize(newsize)"
   ]
  },
  {
   "cell_type": "code",
   "execution_count": null,
   "metadata": {},
   "outputs": [],
   "source": [
    "from PIL import Image \n",
    "\n",
    "def fit_image_to_box(image_path, box_size):\n",
    "    # Open the image\n",
    "    img = Image.open(image_path)\n",
    "\n",
    "    # Get the original dimensions\n",
    "    original_width, original_height = img.size\n",
    "\n",
    "    # Calculate the scaling factors for width and height\n",
    "    width_scale = box_size / original_width\n",
    "    height_scale = box_size / original_height\n",
    "\n",
    "    # Choose the minimum scaling factor to fit the image into the box\n",
    "    min_scale = min(width_scale, height_scale)\n",
    "\n",
    "    # Calculate the new dimensions\n",
    "    new_width = int(original_width * min_scale)\n",
    "    new_height = int(original_height * min_scale)\n",
    "\n",
    "    # Resize the image\n",
    "    resized_img = img.resize((new_width, new_height), Image.ANTIALIAS)\n",
    "\n",
    "    # Create a new blank image with the target size\n",
    "    result_img = Image.new('RGB', (box_size, box_size), (0, 0, 0))\n",
    "\n",
    "    # Calculate the position to paste the resized image\n",
    "    paste_position = ((box_size - new_width) // 2, (box_size - new_height) // 2)\n",
    "\n",
    "    # Paste the resized image onto the blank image\n",
    "    result_img.paste(resized_img, paste_position)\n",
    "\n",
    "    # Save or display the result\n",
    "    result_img.show()\n",
    "\n",
    "# Example usage\n",
    "fit_image_to_box(\"../temp_img/test1.png\", 1024)"
   ]
  }
 ],
 "metadata": {
  "kernelspec": {
   "display_name": "Python 3",
   "language": "python",
   "name": "python3"
  },
  "language_info": {
   "name": "python",
   "version": "3.10.11"
  }
 },
 "nbformat": 4,
 "nbformat_minor": 2
}
